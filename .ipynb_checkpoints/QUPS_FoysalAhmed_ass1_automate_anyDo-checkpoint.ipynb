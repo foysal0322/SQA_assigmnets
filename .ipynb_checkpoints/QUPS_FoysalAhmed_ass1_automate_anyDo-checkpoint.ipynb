{
 "cells": [
  {
   "cell_type": "code",
   "execution_count": 17,
   "metadata": {},
   "outputs": [],
   "source": [
    "##importing necessary libraries\n",
    "import selenium\n",
    "from selenium import webdriver\n",
    "from selenium.webdriver.support.select import Select\n",
    "import time"
   ]
  },
  {
   "cell_type": "code",
   "execution_count": 18,
   "metadata": {},
   "outputs": [],
   "source": [
    "#initiating browser executable path\n",
    "options = webdriver.ChromeOptions()\n",
    "driver = webdriver.Chrome(\"C:/Users/FoysalAhmed/Downloads/chromedriver.exe\",options=options) \n",
    "time.sleep(3)\n",
    "##openning url\n",
    "driver.get(\"https://desktop.any.do/\")\n",
    "time.sleep(5)\n",
    "\n",
    "login_withEmail=driver.find_element_by_xpath('//*[@id=\"root\"]/div[1]/section/div/div[3]/div/div/div/div[1]/div/div/div/div[1]/button[3]')\n",
    "login_withEmail.click()\n",
    "time.sleep(2)\n",
    "\n",
    "email=driver.find_element_by_tag_name('input')\n",
    "email.send_keys('s.ahmed01@northsouth.edu')\n",
    "time.sleep(2)\n",
    "\n",
    "email_btn=driver.find_element_by_xpath('//*[@id=\"root\"]/div[1]/section/div/div[3]/div/div/div/div[2]/div/div[2]/form/div/button')\n",
    "email_btn.click()\n",
    "time.sleep(2)\n",
    "\n",
    "password=driver.find_element_by_xpath('//*[@id=\"root\"]/div[1]/section/div/div[3]/div/div/div/div[2]/div/div[2]/form[2]/div/input')\n",
    "password.send_keys('P@sswordf0ranydo')\n",
    "time.sleep(2)\n",
    "\n",
    "signin=driver.find_element_by_xpath('//*[@id=\"root\"]/div[1]/section/div/div[3]/div/div/div/div[2]/div/div[2]/form[2]/button[2]')\n",
    "signin.click()"
   ]
  },
  {
   "cell_type": "code",
   "execution_count": 19,
   "metadata": {},
   "outputs": [],
   "source": [
    "# P@sswordf0ranydo"
   ]
  },
  {
   "cell_type": "code",
   "execution_count": 21,
   "metadata": {},
   "outputs": [],
   "source": [
    "create_task=driver.find_element_by_xpath('//*[@id=\"root\"]/div[2]/div[1]/div[3]/div[2]/div/button/span[2]')\n",
    "create_task.click()"
   ]
  },
  {
   "cell_type": "code",
   "execution_count": 22,
   "metadata": {},
   "outputs": [],
   "source": [
    "write_task=driver.find_element_by_xpath('/html/body/div[3]/div/div/div[3]/form/section/div/div/div/div[1]/div/div[1]/div/div/div/textarea')\n",
    "write_task.send_keys('My Friday Task')"
   ]
  },
  {
   "cell_type": "code",
   "execution_count": 23,
   "metadata": {},
   "outputs": [],
   "source": [
    "write_note=driver.find_element_by_xpath('/html/body/div[3]/div/div/div[3]/form/section/div/div/div/div[1]/div/div[2]/div[2]/div/div/textarea')\n",
    "write_note.click()\n",
    "write_note.send_keys('Hang out with friends')"
   ]
  },
  {
   "cell_type": "code",
   "execution_count": 24,
   "metadata": {},
   "outputs": [],
   "source": [
    "'''reminder for next week'''\n",
    "set_reminder=driver.find_element_by_xpath('/html/body/div[3]/div/div/div[3]/form/section/div/div/div/div[3]/div[2]/div[2]/button[3]')\n",
    "set_reminder.click()"
   ]
  },
  {
   "cell_type": "code",
   "execution_count": 25,
   "metadata": {},
   "outputs": [],
   "source": [
    "add_task=driver.find_element_by_xpath('/html/body/div[3]/div/div/div[3]/form/section/footer/div/div/button/strong')\n",
    "add_task.click()"
   ]
  },
  {
   "cell_type": "code",
   "execution_count": null,
   "metadata": {},
   "outputs": [],
   "source": []
  }
 ],
 "metadata": {
  "kernelspec": {
   "display_name": "Python 3",
   "language": "python",
   "name": "python3"
  },
  "language_info": {
   "codemirror_mode": {
    "name": "ipython",
    "version": 3
   },
   "file_extension": ".py",
   "mimetype": "text/x-python",
   "name": "python",
   "nbconvert_exporter": "python",
   "pygments_lexer": "ipython3",
   "version": "3.8.5"
  }
 },
 "nbformat": 4,
 "nbformat_minor": 4
}
