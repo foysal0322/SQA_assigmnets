{
 "cells": [
  {
   "cell_type": "code",
   "execution_count": 1,
   "metadata": {},
   "outputs": [],
   "source": [
    "##importing necessary libraries\n",
    "import selenium\n",
    "from selenium import webdriver\n",
    "from selenium.webdriver.support.select import Select\n",
    "from selenium.webdriver.common.keys import Keys\n",
    "import time"
   ]
  },
  {
   "cell_type": "code",
   "execution_count": 2,
   "metadata": {},
   "outputs": [],
   "source": [
    "#initiating browser executable path\n",
    "try:\n",
    "    options = webdriver.ChromeOptions()\n",
    "    driver = webdriver.Chrome(\"C:/Users/FoysalAhmed/Downloads/chromedriver.exe\",options=options) \n",
    "    time.sleep(3)\n",
    "    ##openning url\n",
    "    driver.get(\"https://desktop.any.do/\")\n",
    "    time.sleep(5)\n",
    "\n",
    "    login_withEmail=driver.find_element_by_xpath('//*[@id=\"root\"]/div[1]/section/div/div[3]/div/div/div/div[1]/div/div/div/div[1]/button[3]')\n",
    "    login_withEmail.click()\n",
    "    time.sleep(2)\n",
    "\n",
    "    email=driver.find_element_by_tag_name('input')\n",
    "    email.send_keys('s.ahmed01@northsouth.edu')\n",
    "    time.sleep(2)\n",
    "\n",
    "    email_btn=driver.find_element_by_xpath('//*[@id=\"root\"]/div[1]/section/div/div[3]/div/div/div/div[2]/div/div[2]/form/div/button')\n",
    "    email_btn.click()\n",
    "    time.sleep(2)\n",
    "\n",
    "    password=driver.find_element_by_xpath('//*[@id=\"root\"]/div[1]/section/div/div[3]/div/div/div/div[2]/div/div[2]/form[2]/div/input')\n",
    "    password.send_keys('P@sswordf0ranydo')\n",
    "    time.sleep(2)\n",
    "\n",
    "    signin=driver.find_element_by_xpath('//*[@id=\"root\"]/div[1]/section/div/div[3]/div/div/div/div[2]/div/div[2]/form[2]/button[2]')\n",
    "    signin.click()\n",
    "    time.sleep(6)\n",
    "except Exception as e:\n",
    "    print('Login failed, since:')\n",
    "    print(e)"
   ]
  },
  {
   "cell_type": "code",
   "execution_count": 3,
   "metadata": {},
   "outputs": [],
   "source": [
    "# P@sswordf0ranydo"
   ]
  },
  {
   "cell_type": "code",
   "execution_count": 4,
   "metadata": {},
   "outputs": [],
   "source": [
    "time.sleep(1)\n",
    "create_task=driver.find_element_by_xpath('//*[@id=\"root\"]/div[2]/div[1]/div[3]/div[2]/div/button/span[2]')\n",
    "create_task.click()\n"
   ]
  },
  {
   "cell_type": "code",
   "execution_count": 5,
   "metadata": {},
   "outputs": [],
   "source": [
    "write_task=driver.find_element_by_xpath('/html/body/div[3]/div/div/div[3]/form/section/div/div/div/div[1]/div/div[1]/div/div/div/textarea')\n",
    "write_task.send_keys('My Friday Task')\n",
    "time.sleep(2)"
   ]
  },
  {
   "cell_type": "code",
   "execution_count": 6,
   "metadata": {},
   "outputs": [],
   "source": [
    "write_note=driver.find_element_by_xpath('/html/body/div[3]/div/div/div[3]/form/section/div/div/div/div[1]/div/div[2]/div[2]/div/div/textarea')\n",
    "write_note.click()\n",
    "write_note.send_keys('Hang out with friends')\n",
    "time.sleep(2)"
   ]
  },
  {
   "cell_type": "code",
   "execution_count": 7,
   "metadata": {},
   "outputs": [],
   "source": [
    "'''reminder for next week'''\n",
    "set_reminder=driver.find_element_by_xpath('//button[contains(text(), \"Next\")]')\n",
    "set_reminder.click()\n",
    "time.sleep(2)"
   ]
  },
  {
   "cell_type": "code",
   "execution_count": 8,
   "metadata": {},
   "outputs": [],
   "source": [
    "add_task=driver.find_element_by_xpath('/html/body/div[3]/div/div/div[3]/form/section/footer/div/div/button/strong')\n",
    "add_task.click()\n",
    "time.sleep(2)"
   ]
  },
  {
   "cell_type": "code",
   "execution_count": 9,
   "metadata": {},
   "outputs": [],
   "source": [
    "# '''selecting created task'''\n",
    "# select_task=driver.find_element_by_xpath('//*[@id=\"root\"]/div[2]/div[3]/div/section/div/article[1]/div/div[2]/article/div/div/div/div/div/div[1]/div[1]/div[1]')\n",
    "# select_task.click()\n",
    "# time.sleep(2)\n",
    "\n",
    "# click_subtask=driver.find_element_by_xpath('/html/body/div[6]/div/div/div[3]/div/div/article/div/div/div/div/div/div[1]/div/div/div/div/div/div/div[6]/div/article/button/div')\n",
    "# click_subtask.click()\n",
    "# time.sleep(2)\n",
    "\n",
    "# # write_subtask.send_keys('Wake up early')\n",
    "\n",
    "\n",
    "# try:\n",
    "#     write_subtask=driver.find_element_by_class_name('SubTaskItem__mainContent')\n",
    "#     write_subtask.send_keys('Wake up early')\n",
    "# except:\n",
    "#     pass\n",
    "# close_subtask_Window=driver.find_element_by_class_name('BackdropModal')\n",
    "# close_subtask_Window.click()\n"
   ]
  },
  {
   "cell_type": "code",
   "execution_count": 10,
   "metadata": {},
   "outputs": [],
   "source": [
    "click_listIcon=driver.find_element_by_xpath('//*[@id=\"root\"]/div[2]/div[1]/div[3]/nav/ul/li[3]/div[1]/div[2]/div/button[2]')\n",
    "click_listIcon.click()\n",
    "time.sleep(2)"
   ]
  },
  {
   "cell_type": "code",
   "execution_count": 11,
   "metadata": {},
   "outputs": [],
   "source": [
    "write_listName=driver.find_element_by_tag_name('textarea')\n",
    "write_listName.click()\n",
    "write_listName.send_keys('My Shopping List')\n",
    "time.sleep(2)"
   ]
  },
  {
   "cell_type": "code",
   "execution_count": 12,
   "metadata": {},
   "outputs": [],
   "source": [
    "save_listName=driver.find_element_by_xpath('/html/body/div[3]/div/div/div[3]/form/section/footer/div/div/button[2]')\n",
    "save_listName.click()\n",
    "time.sleep(2)"
   ]
  },
  {
   "cell_type": "code",
   "execution_count": 13,
   "metadata": {},
   "outputs": [],
   "source": [
    "click_toAdd_listItem=driver.find_element_by_xpath('//*[@id=\"root\"]/div[2]/div[1]/div[3]/nav/ul/li[3]/div[2]/ul/li[4]/a/div[2]')\n",
    "click_toAdd_listItem.click()\n",
    "time.sleep(2)\n"
   ]
  },
  {
   "cell_type": "code",
   "execution_count": 14,
   "metadata": {},
   "outputs": [],
   "source": [
    "write_itemName=driver.find_element_by_xpath('//*[@id=\"root\"]/div[2]/div[3]/div/section/article/form/div/div/div/input[1]')\n",
    "\n",
    "write_itemName.click()\n",
    "write_itemName.send_keys('T-shirst')\n",
    "write_itemName.send_keys(Keys.RETURN)\n",
    "time.sleep(2)\n",
    "\n",
    "\n",
    "write_itemName.send_keys('Pant')\n",
    "write_itemName.send_keys(Keys.RETURN)\n",
    "time.sleep(2)\n",
    "\n",
    "\n",
    "write_itemName.send_keys('Mouse')\n",
    "write_itemName.send_keys(Keys.RETURN)\n",
    "time.sleep(2)\n",
    "\n",
    "\n",
    "write_itemName.send_keys('Keyboard')\n",
    "write_itemName.send_keys(Keys.RETURN)\n",
    "time.sleep(2)\n",
    "\n",
    "\n",
    "\n"
   ]
  },
  {
   "cell_type": "code",
   "execution_count": 15,
   "metadata": {},
   "outputs": [],
   "source": [
    "click_settings_icon=driver.find_element_by_xpath('//*[@id=\"root\"]/div[2]/header/div/div/div[3]/button')\n",
    "click_settings_icon.click()\n",
    "time.sleep(2)"
   ]
  },
  {
   "cell_type": "code",
   "execution_count": 16,
   "metadata": {},
   "outputs": [],
   "source": [
    "click_theme=driver.find_element_by_xpath('/html/body/div[6]/div/div[3]/div/section/div/div/div/div/div[1]/div/div/div/button[5]/div[1]')\n",
    "click_theme.click()\n",
    "time.sleep(2)"
   ]
  },
  {
   "cell_type": "code",
   "execution_count": 17,
   "metadata": {},
   "outputs": [],
   "source": [
    "select_theme=driver.find_element_by_xpath('/html/body/div[6]/div/div[3]/div/section/div/div/div/div/div[4]/div/div/div/form/div[3]/div[1]/label')\n",
    "select_theme.click()\n",
    "time.sleep(2)\n",
    "click_settings_icon.click()\n",
    "time.sleep(2)"
   ]
  },
  {
   "cell_type": "code",
   "execution_count": 18,
   "metadata": {},
   "outputs": [],
   "source": [
    "try:\n",
    "    click_notification_icon=driver.find_element_by_xpath('//*[@id=\"root\"]/div[2]/header/div/div/button[2]')\n",
    "    click_notification_icon.click()\n",
    "    time.sleep(1)\n",
    "    click_notification_update=driver.find_element_by_xpath('/html/body/div[6]/div/div/div[1]/div/ul/li[1]/button')\n",
    "    click_notification_update.click()\n",
    "    time.sleep(2)\n",
    "    click_notification_icon.click()\n",
    "    time.sleep(2)\n",
    "except:\n",
    "    pass\n"
   ]
  },
  {
   "cell_type": "code",
   "execution_count": 19,
   "metadata": {},
   "outputs": [],
   "source": [
    "try:\n",
    "    click_more_Option=driver.find_element_by_xpath('//*[@id=\"root\"]/div[2]/div[3]/div/div/div/div/div/div[2]/div[2]/button[3]')\n",
    "    click_more_Option.click()\n",
    "    time.sleep(1)\n",
    "    click_multiple_selection=driver.find_element_by_xpath('/html/body/div[6]/div/div/div/div[2]/button')\n",
    "    click_multiple_selection.click()\n",
    "    time.sleep(1)\n",
    "    close_selection_window=driver.find_element_by_xpath('//*[@id=\"root\"]/div[2]/div[3]/div[2]/div/button[5]')\n",
    "    close_selection_window.click()\n",
    "    time.sleep(4)\n",
    "except Exception as e:\n",
    "    print('ERROR..')\n",
    "    print(e)\n",
    "    \n",
    "    "
   ]
  },
  {
   "cell_type": "code",
   "execution_count": 20,
   "metadata": {
    "scrolled": true
   },
   "outputs": [
    {
     "name": "stdout",
     "output_type": "stream",
     "text": [
      "ERROR..\n",
      "Message: element click intercepted: Element is not clickable at point (229, 710)\n",
      "  (Session info: chrome=95.0.4638.54)\n",
      "\n"
     ]
    }
   ],
   "source": [
    "\n",
    "try:\n",
    "    click_tag=driver.find_element_by_xpath('//*[@id=\"root\"]/div[2]/div[1]/div[3]/nav/ul/li[4]/div[1]/div[2]/button[2]')\n",
    "    click_tag.click()\n",
    "    time.sleep(1)\n",
    "    click_noThanks=driver.find_element_by_xpath('//button[contains(text(), \"No\")]')\n",
    "    click_noThanks.click()\n",
    "    time.sleep(2)\n",
    "except Exception as e:\n",
    "    print('ERROR..')\n",
    "    print(e)"
   ]
  },
  {
   "cell_type": "code",
   "execution_count": 21,
   "metadata": {},
   "outputs": [],
   "source": [
    "click_settings_icon.click()\n",
    "time.sleep(1)\n",
    "my_profile=driver.find_element_by_xpath('/html/body/div[6]/div/div[3]/div/section/div/div/div/div/div[1]/div/div/div/button[1]')\n",
    "my_profile.click()\n",
    "time.sleep(1)\n",
    "sign_out=driver.find_element_by_xpath('/html/body/div[6]/div/div[3]/div/section/div/div/div/div/div[8]/div/div/div/button[3]')\n",
    "sign_out.click()"
   ]
  },
  {
   "cell_type": "code",
   "execution_count": null,
   "metadata": {},
   "outputs": [],
   "source": []
  },
  {
   "cell_type": "code",
   "execution_count": null,
   "metadata": {},
   "outputs": [],
   "source": []
  },
  {
   "cell_type": "code",
   "execution_count": null,
   "metadata": {},
   "outputs": [],
   "source": []
  },
  {
   "cell_type": "code",
   "execution_count": null,
   "metadata": {},
   "outputs": [],
   "source": []
  },
  {
   "cell_type": "code",
   "execution_count": null,
   "metadata": {},
   "outputs": [],
   "source": []
  }
 ],
 "metadata": {
  "kernelspec": {
   "display_name": "Python 3",
   "language": "python",
   "name": "python3"
  },
  "language_info": {
   "codemirror_mode": {
    "name": "ipython",
    "version": 3
   },
   "file_extension": ".py",
   "mimetype": "text/x-python",
   "name": "python",
   "nbconvert_exporter": "python",
   "pygments_lexer": "ipython3",
   "version": "3.8.5"
  }
 },
 "nbformat": 4,
 "nbformat_minor": 4
}
